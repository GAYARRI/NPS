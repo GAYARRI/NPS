{
  "nbformat": 4,
  "nbformat_minor": 0,
  "metadata": {
    "colab": {
      "private_outputs": true,
      "provenance": [],
      "authorship_tag": "ABX9TyPFtfAXTCSxHi5fkjd1t0pE",
      "include_colab_link": true
    },
    "kernelspec": {
      "name": "python3",
      "display_name": "Python 3"
    },
    "language_info": {
      "name": "python"
    }
  },
  "cells": [
    {
      "cell_type": "markdown",
      "metadata": {
        "id": "view-in-github",
        "colab_type": "text"
      },
      "source": [
        "<a href=\"https://colab.research.google.com/github/GAYARRI/NPS/blob/main/UR_1_5.ipynb\" target=\"_parent\"><img src=\"https://colab.research.google.com/assets/colab-badge.svg\" alt=\"Open In Colab\"/></a>"
      ]
    },
    {
      "cell_type": "code",
      "source": [
        "!pip install openai\n",
        "!pip install python-dotenv\n",
        "import json\n",
        "import re\n",
        "import os\n",
        "from google.oauth2 import service_account\n",
        "import openai\n",
        "from openai import OpenAI"
      ],
      "metadata": {
        "id": "5rh1hG2iLcXS"
      },
      "execution_count": null,
      "outputs": []
    },
    {
      "cell_type": "markdown",
      "source": [],
      "metadata": {
        "id": "fAlS-R7adxXX"
      }
    },
    {
      "cell_type": "code",
      "source": [
        "api=os.environ.get(\"OPENAI_API_KEY\")"
      ],
      "metadata": {
        "id": "3TB89VJacczf"
      },
      "execution_count": null,
      "outputs": []
    },
    {
      "cell_type": "code",
      "source": [
        "client = OpenAI(api)\n",
        "chat_completion = client.chat.completions.create(messages=[{\"role\": \"user\",\"content\": \"Say this is a test\",}],model=\"gpt-3.5-turbo\")"
      ],
      "metadata": {
        "id": "8HbTjE8Mlbt-"
      },
      "execution_count": null,
      "outputs": []
    },
    {
      "cell_type": "code",
      "source": [],
      "metadata": {
        "id": "Cw90HFdHeZ1Y"
      },
      "execution_count": null,
      "outputs": []
    },
    {
      "cell_type": "code",
      "source": [
        "concepts_list =[\n",
        "'admisiones','contenidos actuales','coste','didactica','feedback','calidad','coordinacion','otros','practicas','carga  esfuerzo','soporte tecnico',\n",
        "'pracicas adecuada','dirección tf','procesos administrativos','calidad contenidos','docente profeso','calificaciones','equipos de trabajo','practicas de calidad',\n",
        "'concentracion entregas','app movil','calidad tutorias','pagos','errores en contenidos','cumplimiento compromisos','rubrica','actividades grupales',\n",
        "'reconocimiento de practicas','cambios de programacion','rotacion tutores','compromisos docentes','entregas','clases en directo','adecuacion de la practicas',\n",
        "'compatibilidad  horarios','calidad coordinacion academica','calidad evaluaciones','grabaciones','cantidad de practicas','calendario','examenes presenciales',\n",
        "'aula virtual','fechas examenes','examenes on-line','modelo didactico','relacion con profesorado','material','ambiente','aulas','edificio','examenes',\n",
        "'grupos de trabajo','examenes'\n",
        "]"
      ],
      "metadata": {
        "id": "vACsDYSeL7yC"
      },
      "execution_count": null,
      "outputs": []
    },
    {
      "cell_type": "code",
      "source": [
        "opinions = [\n",
        " \"La metodologia es bastante flexible\",\n",
        " \"los tiempos, los trabajos y contenidos se adaptan bien a los creditos que se consiguen\",\n",
        " \"Los precios es dificil poder permitirselos\"\n",
        "]\n"
      ],
      "metadata": {
        "id": "nd5kLm8lLR4a"
      },
      "execution_count": null,
      "outputs": []
    },
    {
      "cell_type": "code",
      "source": [
        "def calculate_similarity_and_sentiment(concept, opinions):\n",
        "    similarity_score = len([word for word in concept.split() if word in ' '.join(opinions)]) * 2\n",
        "    sentiment_score = 5\n",
        "    return max(0, min(10, similarity_score)), sentiment_score  # Ensure the score is within [0, 10]\n",
        "\n",
        "\n",
        "json_output = []\n",
        "\n",
        "for concept in concepts_list:\n",
        "  similarity, sentiment = calculate_similarity_and_sentiment(concept, opinions)\n",
        "  json_output.append({\"Concepto\": concept, \"Similitud\": similarity, \"Sentimiento\": sentiment})\n"
      ],
      "metadata": {
        "id": "PhSF1yqLKZx7"
      },
      "execution_count": null,
      "outputs": []
    },
    {
      "cell_type": "code",
      "source": [
        "json_data = json.dumps(json_output, ensure_ascii=False, indent=2)"
      ],
      "metadata": {
        "id": "7PxCh991NC0S"
      },
      "execution_count": null,
      "outputs": []
    }
  ]
}