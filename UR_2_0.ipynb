{
  "nbformat": 4,
  "nbformat_minor": 0,
  "metadata": {
    "colab": {
      "private_outputs": true,
      "provenance": [],
      "include_colab_link": true
    },
    "kernelspec": {
      "name": "python3",
      "display_name": "Python 3"
    },
    "language_info": {
      "name": "python"
    }
  },
  "cells": [
    {
      "cell_type": "markdown",
      "metadata": {
        "id": "view-in-github",
        "colab_type": "text"
      },
      "source": [
        "<a href=\"https://colab.research.google.com/github/GAYARRI/NPS/blob/main/UR_2_0.ipynb\" target=\"_parent\"><img src=\"https://colab.research.google.com/assets/colab-badge.svg\" alt=\"Open In Colab\"/></a>"
      ]
    },
    {
      "cell_type": "code",
      "source": [
        "from gensim.models import KeyedVectors\n",
        "from gensim import downloader\n",
        "!pip install openai\n",
        "!pip install python-dotenv\n",
        "import json\n",
        "import re\n",
        "import os\n",
        "import pandas as pd\n",
        "!pip install transformers torch\n",
        "!pip install sentence_transformers\n",
        "import torch\n",
        "import numpy\n",
        "import pandas as pd\n",
        "from sentence_transformers import SentenceTransformer,util\n",
        "!pip install gensim==3.8.3\n",
        "\n"
      ],
      "metadata": {
        "id": "5rh1hG2iLcXS"
      },
      "execution_count": null,
      "outputs": []
    },
    {
      "cell_type": "markdown",
      "source": [],
      "metadata": {
        "id": "fAlS-R7adxXX"
      }
    },
    {
      "cell_type": "code",
      "source": [
        "concepts_list =[\n",
        "'admisiones','contenidos actuales','coste','didactica','feedback','calidad','coordinacion','otros','practicas','carga  esfuerzo','soporte tecnico',\n",
        "'pracicas adecuada','dirección tf','procesos administrativos','calidad contenidos','docente profeso','calificaciones','equipos de trabajo','practicas de calidad',\n",
        "'concentracion entregas','app movil','calidad tutorias','pagos','errores en contenidos','cumplimiento compromisos','rubrica','actividades grupales',\n",
        "'reconocimiento de practicas','cambios de programacion','rotacion tutores','compromisos docentes','entregas','clases en directo','adecuacion de la practicas',\n",
        "'compatibilidad  horarios','calidad coordinacion academica','calidad evaluaciones','grabaciones','cantidad de practicas','calendario','examenes presenciales',\n",
        "'aula virtual','fechas examenes','examenes on-line','modelo didactico','relacion con profesorado','material','ambiente','aulas','edificio','examenes',\n",
        "'grupos de trabajo','examenes'\n",
        "]"
      ],
      "metadata": {
        "id": "vACsDYSeL7yC"
      },
      "execution_count": null,
      "outputs": []
    },
    {
      "cell_type": "code",
      "source": [
        "opinions = [\n",
        " \"Contenidos maravillosos\",\n",
        " \"los tiempos, los trabajos y contenidos se adaptan bien a los creditos que se consiguen\",\n",
        " \"Los precios es dificil poder permitirselos\"\n",
        "]"
      ],
      "metadata": {
        "id": "nd5kLm8lLR4a"
      },
      "execution_count": null,
      "outputs": []
    },
    {
      "cell_type": "code",
      "source": [
        "model = SentenceTransformer('all-mpnet-base-v2')\n"
      ],
      "metadata": {
        "id": "JolqOrzWKC_5"
      },
      "execution_count": null,
      "outputs": []
    },
    {
      "cell_type": "code",
      "source": [
        "json_output = []"
      ],
      "metadata": {
        "id": "feDrr7mbQkIF"
      },
      "execution_count": null,
      "outputs": []
    },
    {
      "cell_type": "code",
      "source": [
        "  for opinion in opinions:\n",
        "       entrada_embedding=model.encode([opinion])\n",
        "       embeddings=model.encode(concepts_list)\n",
        "       similitudes = util.pytorch_cos_sim(entrada_embedding,embeddings)   # cálculo de las similitudes entre el imput y el universo disponible\n",
        "       keys= similitudes.argsort(descending=True)                         # Lista ordenada de similitdes del vector input y el universo.\n",
        "       indices=keys.squeeze().tolist\n",
        "       lista=similitudes.tolist()\n",
        "\n",
        "       print(lista)\n",
        "\n",
        "\n",
        "\n",
        "\n",
        "\n",
        "\n",
        "\n",
        ""
      ],
      "metadata": {
        "id": "8jJyHOvVQZg_"
      },
      "execution_count": null,
      "outputs": []
    }
  ]
}